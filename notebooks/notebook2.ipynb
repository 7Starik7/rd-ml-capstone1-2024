{
 "cells": [
  {
   "cell_type": "markdown",
   "source": [
    "#### Imports"
   ],
   "metadata": {
    "collapsed": false
   },
   "id": "40a1c05eeedd3c66"
  },
  {
   "cell_type": "code",
   "outputs": [],
   "source": [
    "import grpc\n",
    "import tensorflow as tf\n",
    "from keras_image_helper import create_preprocessor\n",
    "from tensorflow.keras.models import load_model\n",
    "from tensorflow_serving.apis import prediction_service_pb2_grpc, predict_pb2"
   ],
   "metadata": {
    "collapsed": true,
    "ExecuteTime": {
     "end_time": "2025-01-13T22:21:51.671432Z",
     "start_time": "2025-01-13T22:21:51.665023Z"
    }
   },
   "id": "initial_id",
   "execution_count": 63
  },
  {
   "cell_type": "code",
   "outputs": [],
   "source": [
    "host = 'localhost:8502'\n",
    "\n",
    "channel = grpc.insecure_channel(host)\n",
    "\n",
    "stub = prediction_service_pb2_grpc.PredictionServiceStub(channel)"
   ],
   "metadata": {
    "collapsed": false,
    "ExecuteTime": {
     "end_time": "2025-01-13T22:21:52.456796Z",
     "start_time": "2025-01-13T22:21:52.454182Z"
    }
   },
   "id": "d5de4ab11e52b3fa",
   "execution_count": 64
  },
  {
   "cell_type": "code",
   "outputs": [],
   "source": [
    "preprocessor = create_preprocessor('xception', target_size=(32, 32))"
   ],
   "metadata": {
    "collapsed": false,
    "ExecuteTime": {
     "end_time": "2025-01-13T22:21:53.287034Z",
     "start_time": "2025-01-13T22:21:53.283981Z"
    }
   },
   "id": "fad0b2d995022bad",
   "execution_count": 65
  },
  {
   "cell_type": "code",
   "outputs": [],
   "source": [
    "url = 'https://c7.alamy.com/comp/K0W4HC/a-traffic-sign-indicating-a-speed-limit-of-50-kmh-seen-near-tubingen-K0W4HC.jpg'\n",
    "X = preprocessor.from_url(url)"
   ],
   "metadata": {
    "collapsed": false,
    "ExecuteTime": {
     "end_time": "2025-01-13T22:21:54.064692Z",
     "start_time": "2025-01-13T22:21:53.886337Z"
    }
   },
   "id": "c6dd1ced802fb672",
   "execution_count": 66
  },
  {
   "cell_type": "code",
   "outputs": [],
   "source": [
    "# X"
   ],
   "metadata": {
    "collapsed": false,
    "ExecuteTime": {
     "end_time": "2025-01-13T22:21:54.799082Z",
     "start_time": "2025-01-13T22:21:54.796527Z"
    }
   },
   "id": "d6cc0e467eaf6ead",
   "execution_count": 67
  },
  {
   "cell_type": "code",
   "outputs": [],
   "source": [
    "def np_to_protobuf(data):\n",
    "    return tf.make_tensor_proto(data, shape=data.shape)"
   ],
   "metadata": {
    "collapsed": false,
    "ExecuteTime": {
     "end_time": "2025-01-13T22:21:55.304196Z",
     "start_time": "2025-01-13T22:21:55.302102Z"
    }
   },
   "id": "ed59971f75dc00c7",
   "execution_count": 68
  },
  {
   "cell_type": "code",
   "outputs": [],
   "source": [
    "pb_request = predict_pb2.PredictRequest()\n",
    "\n",
    "pb_request.model_spec.name = 'traffic-sign-recognition-model'\n",
    "pb_request.model_spec.signature_name = 'serving_default'\n",
    "\n",
    "pb_request.inputs['input_8'].CopyFrom(np_to_protobuf(X))"
   ],
   "metadata": {
    "collapsed": false,
    "ExecuteTime": {
     "end_time": "2025-01-13T22:22:02.623047Z",
     "start_time": "2025-01-13T22:22:02.620418Z"
    }
   },
   "id": "c6bc06754820981b",
   "execution_count": 69
  },
  {
   "cell_type": "code",
   "outputs": [],
   "source": [
    "# pb_request"
   ],
   "metadata": {
    "collapsed": false,
    "ExecuteTime": {
     "end_time": "2025-01-13T22:22:06.086606Z",
     "start_time": "2025-01-13T22:22:06.084675Z"
    }
   },
   "id": "af2f497a5342b008",
   "execution_count": 70
  },
  {
   "cell_type": "code",
   "outputs": [
    {
     "ename": "_InactiveRpcError",
     "evalue": "<_InactiveRpcError of RPC that terminated with:\n\tstatus = StatusCode.UNAVAILABLE\n\tdetails = \"failed to connect to all addresses; last error: UNKNOWN: ipv4:127.0.0.1:8502: Failed to connect to remote host: connect: Connection refused (61)\"\n\tdebug_error_string = \"UNKNOWN:Error received from peer  {grpc_message:\"failed to connect to all addresses; last error: UNKNOWN: ipv4:127.0.0.1:8502: Failed to connect to remote host: connect: Connection refused (61)\", grpc_status:14, created_time:\"2025-01-13T17:22:06.919061-05:00\"}\"\n>",
     "output_type": "error",
     "traceback": [
      "\u001B[0;31m---------------------------------------------------------------------------\u001B[0m",
      "\u001B[0;31m_InactiveRpcError\u001B[0m                         Traceback (most recent call last)",
      "Cell \u001B[0;32mIn[71], line 1\u001B[0m\n\u001B[0;32m----> 1\u001B[0m pb_response \u001B[38;5;241m=\u001B[39m \u001B[43mstub\u001B[49m\u001B[38;5;241;43m.\u001B[39;49m\u001B[43mPredict\u001B[49m\u001B[43m(\u001B[49m\u001B[43mpb_request\u001B[49m\u001B[43m,\u001B[49m\u001B[43m \u001B[49m\u001B[43mtimeout\u001B[49m\u001B[38;5;241;43m=\u001B[39;49m\u001B[38;5;241;43m20.0\u001B[39;49m\u001B[43m)\u001B[49m\n",
      "File \u001B[0;32m~/.local/share/virtualenvs/rd-ml-capstone1-2024-pDFNUGGJ/lib/python3.10/site-packages/grpc/_channel.py:1181\u001B[0m, in \u001B[0;36m_UnaryUnaryMultiCallable.__call__\u001B[0;34m(self, request, timeout, metadata, credentials, wait_for_ready, compression)\u001B[0m\n\u001B[1;32m   1166\u001B[0m \u001B[38;5;28;01mdef\u001B[39;00m\u001B[38;5;250m \u001B[39m\u001B[38;5;21m__call__\u001B[39m(\n\u001B[1;32m   1167\u001B[0m     \u001B[38;5;28mself\u001B[39m,\n\u001B[1;32m   1168\u001B[0m     request: Any,\n\u001B[0;32m   (...)\u001B[0m\n\u001B[1;32m   1173\u001B[0m     compression: Optional[grpc\u001B[38;5;241m.\u001B[39mCompression] \u001B[38;5;241m=\u001B[39m \u001B[38;5;28;01mNone\u001B[39;00m,\n\u001B[1;32m   1174\u001B[0m ) \u001B[38;5;241m-\u001B[39m\u001B[38;5;241m>\u001B[39m Any:\n\u001B[1;32m   1175\u001B[0m     (\n\u001B[1;32m   1176\u001B[0m         state,\n\u001B[1;32m   1177\u001B[0m         call,\n\u001B[1;32m   1178\u001B[0m     ) \u001B[38;5;241m=\u001B[39m \u001B[38;5;28mself\u001B[39m\u001B[38;5;241m.\u001B[39m_blocking(\n\u001B[1;32m   1179\u001B[0m         request, timeout, metadata, credentials, wait_for_ready, compression\n\u001B[1;32m   1180\u001B[0m     )\n\u001B[0;32m-> 1181\u001B[0m     \u001B[38;5;28;01mreturn\u001B[39;00m \u001B[43m_end_unary_response_blocking\u001B[49m\u001B[43m(\u001B[49m\u001B[43mstate\u001B[49m\u001B[43m,\u001B[49m\u001B[43m \u001B[49m\u001B[43mcall\u001B[49m\u001B[43m,\u001B[49m\u001B[43m \u001B[49m\u001B[38;5;28;43;01mFalse\u001B[39;49;00m\u001B[43m,\u001B[49m\u001B[43m \u001B[49m\u001B[38;5;28;43;01mNone\u001B[39;49;00m\u001B[43m)\u001B[49m\n",
      "File \u001B[0;32m~/.local/share/virtualenvs/rd-ml-capstone1-2024-pDFNUGGJ/lib/python3.10/site-packages/grpc/_channel.py:1006\u001B[0m, in \u001B[0;36m_end_unary_response_blocking\u001B[0;34m(state, call, with_call, deadline)\u001B[0m\n\u001B[1;32m   1004\u001B[0m         \u001B[38;5;28;01mreturn\u001B[39;00m state\u001B[38;5;241m.\u001B[39mresponse\n\u001B[1;32m   1005\u001B[0m \u001B[38;5;28;01melse\u001B[39;00m:\n\u001B[0;32m-> 1006\u001B[0m     \u001B[38;5;28;01mraise\u001B[39;00m _InactiveRpcError(state)\n",
      "\u001B[0;31m_InactiveRpcError\u001B[0m: <_InactiveRpcError of RPC that terminated with:\n\tstatus = StatusCode.UNAVAILABLE\n\tdetails = \"failed to connect to all addresses; last error: UNKNOWN: ipv4:127.0.0.1:8502: Failed to connect to remote host: connect: Connection refused (61)\"\n\tdebug_error_string = \"UNKNOWN:Error received from peer  {grpc_message:\"failed to connect to all addresses; last error: UNKNOWN: ipv4:127.0.0.1:8502: Failed to connect to remote host: connect: Connection refused (61)\", grpc_status:14, created_time:\"2025-01-13T17:22:06.919061-05:00\"}\"\n>"
     ]
    }
   ],
   "source": [
    "pb_response = stub.Predict(pb_request, timeout=20.0)"
   ],
   "metadata": {
    "collapsed": false,
    "ExecuteTime": {
     "end_time": "2025-01-13T22:22:06.959222Z",
     "start_time": "2025-01-13T22:22:06.915680Z"
    }
   },
   "id": "50810997c5041695",
   "execution_count": 71
  },
  {
   "cell_type": "code",
   "outputs": [
    {
     "ename": "NameError",
     "evalue": "name 'pb_response' is not defined",
     "output_type": "error",
     "traceback": [
      "\u001B[0;31m---------------------------------------------------------------------------\u001B[0m",
      "\u001B[0;31mNameError\u001B[0m                                 Traceback (most recent call last)",
      "Cell \u001B[0;32mIn[59], line 1\u001B[0m\n\u001B[0;32m----> 1\u001B[0m \u001B[43mpb_response\u001B[49m\n",
      "\u001B[0;31mNameError\u001B[0m: name 'pb_response' is not defined"
     ]
    }
   ],
   "source": [
    "pb_response"
   ],
   "metadata": {
    "collapsed": false,
    "ExecuteTime": {
     "end_time": "2025-01-13T22:00:44.271506Z",
     "start_time": "2025-01-13T22:00:44.253271Z"
    }
   },
   "id": "a586a499e3572a77",
   "execution_count": 59
  },
  {
   "cell_type": "code",
   "outputs": [
    {
     "ename": "NameError",
     "evalue": "name 'pb_response' is not defined",
     "output_type": "error",
     "traceback": [
      "\u001B[0;31m---------------------------------------------------------------------------\u001B[0m",
      "\u001B[0;31mNameError\u001B[0m                                 Traceback (most recent call last)",
      "Cell \u001B[0;32mIn[60], line 1\u001B[0m\n\u001B[0;32m----> 1\u001B[0m preds \u001B[38;5;241m=\u001B[39m \u001B[43mpb_response\u001B[49m\u001B[38;5;241m.\u001B[39moutputs[\u001B[38;5;124m'\u001B[39m\u001B[38;5;124mdense_7\u001B[39m\u001B[38;5;124m'\u001B[39m]\u001B[38;5;241m.\u001B[39mfloat_val\n",
      "\u001B[0;31mNameError\u001B[0m: name 'pb_response' is not defined"
     ]
    }
   ],
   "source": [
    "preds = pb_response.outputs['dense_7'].float_val"
   ],
   "metadata": {
    "collapsed": false,
    "ExecuteTime": {
     "end_time": "2025-01-13T22:00:45.120950Z",
     "start_time": "2025-01-13T22:00:45.102820Z"
    }
   },
   "id": "d652f23fef00ff77",
   "execution_count": 60
  },
  {
   "cell_type": "code",
   "outputs": [],
   "source": [
    "classes = [\n",
    "'Speed limit (20km/h)',\n",
    "'Speed limit (30km/h)',\n",
    "'Speed limit (50km/h)',\n",
    "'Speed limit (60km/h)',\n",
    "'Speed limit (70km/h)',\n",
    "'Speed limit (80km/h)',\n",
    "'End of speed limit (80km/h)',\n",
    "'Speed limit (100km/h)',\n",
    "'Speed limit (120km/h)',\n",
    "'No passing',\n",
    "'No passing for vehicles over 3.5 metric tons',\n",
    "'Right-of-way at the next intersection',\n",
    "'Priority road',\n",
    "'Yield',\n",
    "'Stop',\n",
    "'No vehicles',\n",
    "'Vehicles over 3.5 metric tons prohibited',\n",
    "'No entry',\n",
    "'General caution',\n",
    "'Dangerous curve to the left',\n",
    "'Dangerous curve to the right',\n",
    "'Double curve',\n",
    "'Bumpy road',\n",
    "'Slippery road',\n",
    "'Road narrows on the right',\n",
    "'Road work',\n",
    "'Traffic signals',\n",
    "'Pedestrians',\n",
    "'Children crossing',\n",
    "'Bicycles crossing',\n",
    "'Beware of ice/snow',\n",
    "'Wild animals crossing',\n",
    "'End of all speed and passing limits',\n",
    "'Turn right ahead',\n",
    "'Turn left ahead',\n",
    "'Ahead only',\n",
    "'Go straight or right',\n",
    "'Go straight or left',\n",
    "'Keep right',\n",
    "'Keep left',\n",
    "'Roundabout mandatory',\n",
    "'End of no passing',\n",
    "'End of no passing by vehicles over 3.5 metric'\n",
    "]"
   ],
   "metadata": {
    "collapsed": false,
    "ExecuteTime": {
     "end_time": "2025-01-13T22:00:45.757150Z",
     "start_time": "2025-01-13T22:00:45.754409Z"
    }
   },
   "id": "ed780b4192763527",
   "execution_count": 61
  },
  {
   "cell_type": "code",
   "outputs": [],
   "source": [
    "dict(zip(classes, preds))"
   ],
   "metadata": {
    "collapsed": false
   },
   "id": "ffc3ad7832f8974b"
  }
 ],
 "metadata": {
  "kernelspec": {
   "display_name": "Python 3",
   "language": "python",
   "name": "python3"
  },
  "language_info": {
   "codemirror_mode": {
    "name": "ipython",
    "version": 2
   },
   "file_extension": ".py",
   "mimetype": "text/x-python",
   "name": "python",
   "nbconvert_exporter": "python",
   "pygments_lexer": "ipython2",
   "version": "2.7.6"
  }
 },
 "nbformat": 4,
 "nbformat_minor": 5
}
