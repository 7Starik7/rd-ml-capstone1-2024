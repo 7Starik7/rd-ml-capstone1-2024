{
 "cells": [
  {
   "cell_type": "markdown",
   "source": [
    "#### Imports"
   ],
   "metadata": {
    "collapsed": false
   },
   "id": "40a1c05eeedd3c66"
  },
  {
   "cell_type": "code",
   "outputs": [
    {
     "ename": "ImportError",
     "evalue": "cannot import name 'keras' from 'tensorflow' (/Users/roman_didyk/Documents/dev/python/rd-ml-capstone1-2024/.venv/lib/python3.10/site-packages/tensorflow/__init__.py)",
     "output_type": "error",
     "traceback": [
      "\u001B[0;31m---------------------------------------------------------------------------\u001B[0m",
      "\u001B[0;31mImportError\u001B[0m                               Traceback (most recent call last)",
      "Cell \u001B[0;32mIn[3], line 4\u001B[0m\n\u001B[1;32m      2\u001B[0m \u001B[38;5;28;01mimport\u001B[39;00m\u001B[38;5;250m \u001B[39m\u001B[38;5;21;01mtensorflow\u001B[39;00m\u001B[38;5;250m \u001B[39m\u001B[38;5;28;01mas\u001B[39;00m\u001B[38;5;250m \u001B[39m\u001B[38;5;21;01mtf\u001B[39;00m\n\u001B[1;32m      3\u001B[0m \u001B[38;5;28;01mfrom\u001B[39;00m\u001B[38;5;250m \u001B[39m\u001B[38;5;21;01mkeras_image_helper\u001B[39;00m\u001B[38;5;250m \u001B[39m\u001B[38;5;28;01mimport\u001B[39;00m create_preprocessor\n\u001B[0;32m----> 4\u001B[0m \u001B[38;5;28;01mfrom\u001B[39;00m\u001B[38;5;250m \u001B[39m\u001B[38;5;21;01mtensorflow\u001B[39;00m\u001B[38;5;250m \u001B[39m\u001B[38;5;28;01mimport\u001B[39;00m keras\n\u001B[1;32m      5\u001B[0m \u001B[38;5;28;01mfrom\u001B[39;00m\u001B[38;5;250m \u001B[39m\u001B[38;5;21;01mtensorflow_serving\u001B[39;00m\u001B[38;5;21;01m.\u001B[39;00m\u001B[38;5;21;01mapis\u001B[39;00m\u001B[38;5;250m \u001B[39m\u001B[38;5;28;01mimport\u001B[39;00m prediction_service_pb2_grpc, predict_pb2\n",
      "\u001B[0;31mImportError\u001B[0m: cannot import name 'keras' from 'tensorflow' (/Users/roman_didyk/Documents/dev/python/rd-ml-capstone1-2024/.venv/lib/python3.10/site-packages/tensorflow/__init__.py)"
     ]
    }
   ],
   "source": [
    "import grpc\n",
    "import tensorflow as tf\n",
    "from keras_image_helper import create_preprocessor\n",
    "from tensorflow import keras\n",
    "from tensorflow_serving.apis import prediction_service_pb2_grpc, predict_pb2"
   ],
   "metadata": {
    "collapsed": true,
    "ExecuteTime": {
     "end_time": "2025-01-13T17:53:09.601354Z",
     "start_time": "2025-01-13T17:53:09.590872Z"
    }
   },
   "id": "initial_id",
   "execution_count": 3
  },
  {
   "cell_type": "code",
   "outputs": [],
   "source": [
    "model = keras.models.load_model('./best_model.h5')\n",
    "\n",
    "tf.saved_model.save(model, 'traffic-sign-model')"
   ],
   "metadata": {
    "collapsed": false
   },
   "id": "2b560195a5afcfd5"
  },
  {
   "cell_type": "code",
   "outputs": [],
   "source": [
    "host = 'localhost:8500'\n",
    "\n",
    "channel = grpc.insecure_channel(host)\n",
    "\n",
    "stub = prediction_service_pb2_grpc.PredictionServiceStub(channel)"
   ],
   "metadata": {
    "collapsed": false
   },
   "id": "d5de4ab11e52b3fa"
  },
  {
   "cell_type": "code",
   "outputs": [],
   "source": [
    "preprocessor = create_preprocessor('xception', target_size=(32, 32))"
   ],
   "metadata": {
    "collapsed": false
   },
   "id": "fad0b2d995022bad"
  },
  {
   "cell_type": "code",
   "outputs": [],
   "source": [
    "url = 'https://www.alamy.com/a-traffic-sign-indicating-a-speed-limit-of-50-kmh-seen-near-tubingen-image155445736.html'\n",
    "X = preprocessor.from_url(url)"
   ],
   "metadata": {
    "collapsed": false
   },
   "id": "c6dd1ced802fb672"
  },
  {
   "cell_type": "code",
   "outputs": [],
   "source": [
    "X"
   ],
   "metadata": {
    "collapsed": false
   },
   "id": "d6cc0e467eaf6ead"
  },
  {
   "cell_type": "code",
   "outputs": [],
   "source": [
    "def np_to_protobuf(data):\n",
    "    return tf.make_tensor_proto(data, shape=data.shape)"
   ],
   "metadata": {
    "collapsed": false
   },
   "id": "ed59971f75dc00c7"
  },
  {
   "cell_type": "code",
   "outputs": [],
   "source": [
    "pb_request = predict_pb2.PredictRequest()\n",
    "\n",
    "pb_request.model_spec.name = 'traffic-sign-model'\n",
    "pb_request.model_spec.signature_name = 'serving_default'\n",
    "\n",
    "pb_request.inputs['input_8'].CopyFrom(np_to_protobuf(X))"
   ],
   "metadata": {
    "collapsed": false
   },
   "id": "c6bc06754820981b"
  },
  {
   "cell_type": "code",
   "outputs": [],
   "source": [
    "pb_request"
   ],
   "metadata": {
    "collapsed": false
   },
   "id": "af2f497a5342b008"
  },
  {
   "cell_type": "code",
   "outputs": [],
   "source": [
    "pb_response = stub.Predict(pb_request, timeout=20.0)"
   ],
   "metadata": {
    "collapsed": false
   },
   "id": "50810997c5041695"
  },
  {
   "cell_type": "code",
   "outputs": [],
   "source": [
    "pb_response"
   ],
   "metadata": {
    "collapsed": false
   },
   "id": "a586a499e3572a77"
  },
  {
   "cell_type": "code",
   "outputs": [],
   "source": [
    "preds = pb_response.outputs['dense_7'].float_val"
   ],
   "metadata": {
    "collapsed": false
   },
   "id": "d652f23fef00ff77"
  },
  {
   "cell_type": "code",
   "outputs": [],
   "source": [
    "classes = [\n",
    "'Speed limit (20km/h)',\n",
    "'Speed limit (30km/h)',\n",
    "'Speed limit (50km/h)',\n",
    "'Speed limit (60km/h)',\n",
    "'Speed limit (70km/h)',\n",
    "'Speed limit (80km/h)',\n",
    "'End of speed limit (80km/h)',\n",
    "'Speed limit (100km/h)',\n",
    "'Speed limit (120km/h)',\n",
    "'No passing',\n",
    "'No passing for vehicles over 3.5 metric tons',\n",
    "'Right-of-way at the next intersection',\n",
    "'Priority road',\n",
    "'Yield',\n",
    "'Stop',\n",
    "'No vehicles',\n",
    "'Vehicles over 3.5 metric tons prohibited',\n",
    "'No entry',\n",
    "'General caution',\n",
    "'Dangerous curve to the left',\n",
    "'Dangerous curve to the right',\n",
    "'Double curve',\n",
    "'Bumpy road',\n",
    "'Slippery road',\n",
    "'Road narrows on the right',\n",
    "'Road work',\n",
    "'Traffic signals',\n",
    "'Pedestrians',\n",
    "'Children crossing',\n",
    "'Bicycles crossing',\n",
    "'Beware of ice/snow',\n",
    "'Wild animals crossing',\n",
    "'End of all speed and passing limits',\n",
    "'Turn right ahead',\n",
    "'Turn left ahead',\n",
    "'Ahead only',\n",
    "'Go straight or right',\n",
    "'Go straight or left',\n",
    "'Keep right',\n",
    "'Keep left',\n",
    "'Roundabout mandatory',\n",
    "'End of no passing',\n",
    "'End of no passing by vehicles over 3.5 metric'\n",
    "]"
   ],
   "metadata": {
    "collapsed": false
   },
   "id": "ed780b4192763527"
  },
  {
   "cell_type": "code",
   "outputs": [],
   "source": [
    "dict(zip(classes, preds))"
   ],
   "metadata": {
    "collapsed": false
   },
   "id": "ffc3ad7832f8974b"
  }
 ],
 "metadata": {
  "kernelspec": {
   "display_name": "Python 3",
   "language": "python",
   "name": "python3"
  },
  "language_info": {
   "codemirror_mode": {
    "name": "ipython",
    "version": 2
   },
   "file_extension": ".py",
   "mimetype": "text/x-python",
   "name": "python",
   "nbconvert_exporter": "python",
   "pygments_lexer": "ipython2",
   "version": "2.7.6"
  }
 },
 "nbformat": 4,
 "nbformat_minor": 5
}
